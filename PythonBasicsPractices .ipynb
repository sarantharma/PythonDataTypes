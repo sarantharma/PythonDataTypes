{
 "cells": [
  {
   "cell_type": "code",
   "execution_count": 2,
   "id": "aaddd9e9",
   "metadata": {},
   "outputs": [],
   "source": [
    "# Write a Python program to calculate the length of a string\n",
    "def calculateStringLength(str1):\n",
    "    count = 0;\n",
    "    for char in str1:\n",
    "        count += 1\n",
    "    return count;\n",
    "\n"
   ]
  },
  {
   "cell_type": "code",
   "execution_count": 3,
   "id": "5fc5e24c",
   "metadata": {},
   "outputs": [
    {
     "data": {
      "text/plain": [
       "11"
      ]
     },
     "execution_count": 3,
     "metadata": {},
     "output_type": "execute_result"
    }
   ],
   "source": [
    "calculateStringLength(\"Hello World\")"
   ]
  },
  {
   "cell_type": "code",
   "execution_count": 1,
   "id": "c896e7ba",
   "metadata": {},
   "outputs": [],
   "source": [
    "# Write a Python program to sum all the items in a list\n",
    "def sumOfList(list1):\n",
    "    sum = 0;\n",
    "    for num in list1:\n",
    "        sum += num;\n",
    "    return sum;"
   ]
  },
  {
   "cell_type": "code",
   "execution_count": 5,
   "id": "f11d7242",
   "metadata": {},
   "outputs": [],
   "source": [
    "x=[1,2,3,4,1]"
   ]
  },
  {
   "cell_type": "code",
   "execution_count": 6,
   "id": "fd2a9703",
   "metadata": {},
   "outputs": [
    {
     "data": {
      "text/plain": [
       "11"
      ]
     },
     "execution_count": 6,
     "metadata": {},
     "output_type": "execute_result"
    }
   ],
   "source": [
    "sumOfList(x)"
   ]
  },
  {
   "cell_type": "code",
   "execution_count": 12,
   "id": "ba515f7e",
   "metadata": {},
   "outputs": [],
   "source": [
    "#Write a Python program to multiplies all the items in a list\n",
    "def multipleOfList(list1):\n",
    "    multi = 1;\n",
    "    for num in list1:\n",
    "        multi *= num;\n",
    "    return multi;"
   ]
  },
  {
   "cell_type": "code",
   "execution_count": 13,
   "id": "bbfae1b1",
   "metadata": {},
   "outputs": [
    {
     "data": {
      "text/plain": [
       "24"
      ]
     },
     "execution_count": 13,
     "metadata": {},
     "output_type": "execute_result"
    }
   ],
   "source": [
    "multipleOfList(x)"
   ]
  },
  {
   "cell_type": "code",
   "execution_count": 32,
   "id": "9104a22d",
   "metadata": {},
   "outputs": [],
   "source": [
    "#Write a Python program to get the largest number from a list\n",
    "def largestInList(list1):\n",
    "    largest = list1[0]\n",
    "    for num in list1:\n",
    "        if num > largest:\n",
    "            largest = num\n",
    "    return largest\n",
    "        "
   ]
  },
  {
   "cell_type": "code",
   "execution_count": 33,
   "id": "d28b919a",
   "metadata": {},
   "outputs": [
    {
     "data": {
      "text/plain": [
       "4"
      ]
     },
     "execution_count": 33,
     "metadata": {},
     "output_type": "execute_result"
    }
   ],
   "source": [
    "largestInList(x)"
   ]
  },
  {
   "cell_type": "code",
   "execution_count": 34,
   "id": "15925b26",
   "metadata": {},
   "outputs": [],
   "source": [
    "#Write a Python program to get the smallest number from a list\n",
    "def smallestInList(list1):\n",
    "    smallest = list1[0]\n",
    "    for num in list1:\n",
    "        if num < smallest:\n",
    "            smallest = num\n",
    "    return smallest"
   ]
  },
  {
   "cell_type": "code",
   "execution_count": 36,
   "id": "d71c4e2f",
   "metadata": {},
   "outputs": [
    {
     "data": {
      "text/plain": [
       "1"
      ]
     },
     "execution_count": 36,
     "metadata": {},
     "output_type": "execute_result"
    }
   ],
   "source": [
    "smallestInList(x)"
   ]
  },
  {
   "cell_type": "code",
   "execution_count": 40,
   "id": "b82336fe",
   "metadata": {},
   "outputs": [],
   "source": [
    "#Write a Python program to count the number of characters in a string\n",
    "def numOfCharInString(str):\n",
    "    dict = {}\n",
    "    for char in str:\n",
    "        keys = dict.keys();\n",
    "        if char in keys:\n",
    "            dict[char] += 1\n",
    "        else:\n",
    "            dict[char] = 1\n",
    "    return dict"
   ]
  },
  {
   "cell_type": "code",
   "execution_count": 41,
   "id": "ceba9add",
   "metadata": {},
   "outputs": [
    {
     "data": {
      "text/plain": [
       "{'H': 1, 'e': 1, 'l': 3, 'o': 2, ' ': 1, 'W': 1, 'r': 1, 'd': 1}"
      ]
     },
     "execution_count": 41,
     "metadata": {},
     "output_type": "execute_result"
    }
   ],
   "source": [
    "numOfCharInString(\"Hello World\")"
   ]
  },
  {
   "cell_type": "code",
   "execution_count": 46,
   "id": "0bf14a25",
   "metadata": {},
   "outputs": [],
   "source": [
    "#Write a Python program to count the number of strings where the string length is 2 or more \n",
    "#and the first and last character are same from a given list of strings.\n",
    "\n",
    "def matchingFirstandLast(stringList):\n",
    "    count = 0;\n",
    "    for word in stringList:\n",
    "        if word[0] == word[-1] and len(word) > 1:\n",
    "            count+=1\n",
    "    return count\n",
    "        "
   ]
  },
  {
   "cell_type": "code",
   "execution_count": 52,
   "id": "5458e759",
   "metadata": {},
   "outputs": [
    {
     "data": {
      "text/plain": [
       "3"
      ]
     },
     "execution_count": 52,
     "metadata": {},
     "output_type": "execute_result"
    }
   ],
   "source": [
    "matchingFirstandLast(['aba','1', 'xyz', 'aba', '1221'])"
   ]
  },
  {
   "cell_type": "code",
   "execution_count": 57,
   "id": "627eb6c3",
   "metadata": {},
   "outputs": [],
   "source": [
    "#Write a Python program to get a list, sorted in increasing order by the last element in each tuple \n",
    "#from a given list of non-empty tuples.\n",
    "\n",
    "def takeLastElement(list_1):\n",
    "    return(list_1[-1])\n",
    "\n",
    "def sortingByLast(tupleList):\n",
    "    sortedList = sorted(tupleList, key = takeLastElement)\n",
    "    return sortedList;\n",
    "    \n",
    "    "
   ]
  },
  {
   "cell_type": "code",
   "execution_count": 58,
   "id": "3df0ed02",
   "metadata": {},
   "outputs": [
    {
     "data": {
      "text/plain": [
       "[(2, 1), (1, 2), (2, 3), (4, 4), (2, 5)]"
      ]
     },
     "execution_count": 58,
     "metadata": {},
     "output_type": "execute_result"
    }
   ],
   "source": [
    "sortingByLast([(2, 5), (1, 2), (4, 4), (2, 3), (2, 1)])"
   ]
  },
  {
   "cell_type": "code",
   "execution_count": 59,
   "id": "d75bf910",
   "metadata": {},
   "outputs": [],
   "source": [
    "#Write a Python program to get a string made of the first 2 and the last 2 chars from a given a string. \n",
    "#If the string length is less than 2, return instead the empty string.\n",
    "\n",
    "def two_FirstLast(str):\n",
    "    if len(str) < 2:\n",
    "        return \"\";\n",
    "    else:\n",
    "        return str[:2] + str[-2:]\n"
   ]
  },
  {
   "cell_type": "code",
   "execution_count": 62,
   "id": "19824ead",
   "metadata": {},
   "outputs": [
    {
     "data": {
      "text/plain": [
       "''"
      ]
     },
     "execution_count": 62,
     "metadata": {},
     "output_type": "execute_result"
    }
   ],
   "source": [
    "two_FirstLast('3')"
   ]
  },
  {
   "cell_type": "code",
   "execution_count": 71,
   "id": "8d4a94b8",
   "metadata": {},
   "outputs": [],
   "source": [
    "#Write a Python program to get a string from a given string where all occurrences of its \n",
    "#first char have been changed to '$', except the first char itself. \n",
    "def changeFirstChar(str):\n",
    "    char = str[0]\n",
    "    str = char + str[1:].replace(char, \"$\");\n",
    "    return str\n",
    "    "
   ]
  },
  {
   "cell_type": "code",
   "execution_count": 72,
   "id": "68bb6693",
   "metadata": {},
   "outputs": [
    {
     "data": {
      "text/plain": [
       "'resta$t'"
      ]
     },
     "execution_count": 72,
     "metadata": {},
     "output_type": "execute_result"
    }
   ],
   "source": [
    "changeFirstChar(\"restart\")"
   ]
  },
  {
   "cell_type": "code",
   "execution_count": 79,
   "id": "933e9f3e",
   "metadata": {},
   "outputs": [],
   "source": [
    "#Write a Python program to get a single string from two given strings, \n",
    "#separated by a space and swap the first two characters of each string.\n",
    "\n",
    "def charSwap(str1, str2):\n",
    "    return str1.replace(str1[:2], str2[:2]) + \" \" + str2.replace(str2[:2], str1[:2])"
   ]
  },
  {
   "cell_type": "code",
   "execution_count": 80,
   "id": "16147b08",
   "metadata": {},
   "outputs": [
    {
     "data": {
      "text/plain": [
       "'xyc abz'"
      ]
     },
     "execution_count": 80,
     "metadata": {},
     "output_type": "execute_result"
    }
   ],
   "source": [
    "charSwap(\"abc\",\"xyz\")"
   ]
  },
  {
   "cell_type": "code",
   "execution_count": 88,
   "id": "4dd5a505",
   "metadata": {},
   "outputs": [],
   "source": [
    "#Write a Python program to add 'ing' at the end of a given string (length should be at least 3). \n",
    "#If the given string is already ends with 'ing' then add 'ly' instead. \n",
    "#If the string length of the given string is less than 3, leave it unchanged.\n",
    "\n",
    "def ing_ly_append(str):\n",
    "    if len(str) < 3:\n",
    "        return str\n",
    "    else:\n",
    "        if str[-3:] == \"ing\":\n",
    "            return str + \"ly\"\n",
    "        else:\n",
    "            return str + \"ing\"\n",
    "\n"
   ]
  },
  {
   "cell_type": "code",
   "execution_count": 89,
   "id": "9af8666c",
   "metadata": {},
   "outputs": [
    {
     "data": {
      "text/plain": [
       "'abcing'"
      ]
     },
     "execution_count": 89,
     "metadata": {},
     "output_type": "execute_result"
    }
   ],
   "source": [
    "ing_ly_append(\"abc\")"
   ]
  },
  {
   "cell_type": "code",
   "execution_count": 90,
   "id": "cf3671bd",
   "metadata": {},
   "outputs": [
    {
     "data": {
      "text/plain": [
       "'stringly'"
      ]
     },
     "execution_count": 90,
     "metadata": {},
     "output_type": "execute_result"
    }
   ],
   "source": [
    "ing_ly_append(\"string\")"
   ]
  },
  {
   "cell_type": "code",
   "execution_count": 103,
   "id": "c8a46398",
   "metadata": {},
   "outputs": [],
   "source": [
    "#Write a Python program to find the first appearance of the substring 'not' and 'poor' from a given string, \n",
    "#if 'bad' follows the 'poor', replace the whole 'not'...'poor' substring with 'good'. Return the resulting string.\n",
    "\n",
    "def notPoor(str):\n",
    "    indexNot = str.find('not')\n",
    "    indexPoor = str.find('poor')\n",
    "    \n",
    "    if(indexPoor > indexNot and indexNot > 0 and indexPoor > 0):\n",
    "        str = str.replace(str[indexNot: (indexPoor+4)], 'good')\n",
    "        return str\n",
    "    else:\n",
    "        return str\n",
    "    \n",
    "\n",
    "\n"
   ]
  },
  {
   "cell_type": "code",
   "execution_count": 104,
   "id": "2704fee3",
   "metadata": {},
   "outputs": [
    {
     "data": {
      "text/plain": [
       "'The lyrics is good!'"
      ]
     },
     "execution_count": 104,
     "metadata": {},
     "output_type": "execute_result"
    }
   ],
   "source": [
    "notPoor('The lyrics is not that poor!')"
   ]
  },
  {
   "cell_type": "code",
   "execution_count": 105,
   "id": "226055d4",
   "metadata": {},
   "outputs": [],
   "source": [
    "#Write a Python program to sort (ascending and descending) a dictionary by value.\n",
    "def sortByValue(input_dict, ascending=True):\n",
    "    sorted_items = sorted(input_dict.items(), key=lambda x: x[1], reverse=not ascending)    \n",
    "    sorted_dict = dict(sorted_items)\n",
    "    return sorted_dict\n"
   ]
  },
  {
   "cell_type": "code",
   "execution_count": 106,
   "id": "579718b9",
   "metadata": {},
   "outputs": [],
   "source": [
    "colors = {'Red': 1, 'Green': 3, 'Black': 5, 'White': 2, 'Pink': 4}\n"
   ]
  },
  {
   "cell_type": "code",
   "execution_count": 107,
   "id": "4252535d",
   "metadata": {},
   "outputs": [
    {
     "data": {
      "text/plain": [
       "{'Red': 1, 'White': 2, 'Green': 3, 'Pink': 4, 'Black': 5}"
      ]
     },
     "execution_count": 107,
     "metadata": {},
     "output_type": "execute_result"
    }
   ],
   "source": [
    "sortByValue(colors)"
   ]
  },
  {
   "cell_type": "code",
   "execution_count": 108,
   "id": "4ea74024",
   "metadata": {},
   "outputs": [
    {
     "data": {
      "text/plain": [
       "{'Black': 5, 'Pink': 4, 'Green': 3, 'White': 2, 'Red': 1}"
      ]
     },
     "execution_count": 108,
     "metadata": {},
     "output_type": "execute_result"
    }
   ],
   "source": [
    "sortByValue(colors, False)"
   ]
  },
  {
   "cell_type": "code",
   "execution_count": null,
   "id": "bfbaafbb",
   "metadata": {},
   "outputs": [],
   "source": []
  }
 ],
 "metadata": {
  "kernelspec": {
   "display_name": "Python 3 (ipykernel)",
   "language": "python",
   "name": "python3"
  },
  "language_info": {
   "codemirror_mode": {
    "name": "ipython",
    "version": 3
   },
   "file_extension": ".py",
   "mimetype": "text/x-python",
   "name": "python",
   "nbconvert_exporter": "python",
   "pygments_lexer": "ipython3",
   "version": "3.9.7"
  }
 },
 "nbformat": 4,
 "nbformat_minor": 5
}
